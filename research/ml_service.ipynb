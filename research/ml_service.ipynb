{
 "cells": [
  {
   "cell_type": "code",
   "execution_count": 88,
   "id": "b15c34bd",
   "metadata": {},
   "outputs": [],
   "source": [
    "import json \n",
    "import numpy as np\n",
    "import pandas as pd\n",
    "from sklearn.model_selection import train_test_split\n",
    "from sklearn.preprocessing import LabelEncoder\n",
    "from sklearn.ensemble import RandomForestClassifier\n",
    "from sklearn.ensemble import ExtraTreesClassifier\n",
    "import joblib\n",
    "\n",
    "from sklearn.metrics import confusion_matrix, classification_report"
   ]
  },
  {
   "cell_type": "code",
   "execution_count": 6,
   "id": "a6eb2fa1",
   "metadata": {},
   "outputs": [],
   "source": [
    "df = pd.read_csv(\"https://raw.githubusercontent.com/pplonski/datasets-for-start/master/adult/data.csv\", skipinitialspace=True)"
   ]
  },
  {
   "cell_type": "code",
   "execution_count": 9,
   "id": "40f30221",
   "metadata": {},
   "outputs": [],
   "source": [
    "x_cols = [c for c in df.columns if c != \"income\"]\n",
    "X = df[x_cols]\n",
    "y = df[\"income\"]"
   ]
  },
  {
   "cell_type": "code",
   "execution_count": 54,
   "id": "69d8d5bd",
   "metadata": {},
   "outputs": [],
   "source": [
    "X_train, X_test, y_train, y_test = train_test_split(X, y, test_size=0.3, random_state=1234)"
   ]
  },
  {
   "cell_type": "code",
   "execution_count": 100,
   "id": "41b6b658",
   "metadata": {},
   "outputs": [],
   "source": [
    "def df_encoder(df):\n",
    "    df_subset = df.copy()\n",
    "    mode = dict(df_subset.mode().iloc[0])\n",
    "    df_subset = df_subset.fillna(mode)\n",
    "    \n",
    "    encoders = {}\n",
    "    for column in [k for (k, v) in mode.items() if type(v) == str]:\n",
    "        categorical_convert = LabelEncoder()\n",
    "        df_subset[column] = categorical_convert.fit_transform(df_subset[column])\n",
    "        encoders[column] = categorical_convert \n",
    "    return df_subset, mode, encoders"
   ]
  },
  {
   "cell_type": "code",
   "execution_count": 101,
   "id": "b847620f",
   "metadata": {},
   "outputs": [],
   "source": [
    "X_train_enc, train_mode, train_enc = df_encoder(X_train)\n",
    "X_test_enc, test_mode, test_enc = df_encoder(X_test)"
   ]
  },
  {
   "cell_type": "code",
   "execution_count": 110,
   "id": "71c59f3f",
   "metadata": {},
   "outputs": [],
   "source": [
    "rf = RandomForestClassifier(n_estimators=100)\n",
    "rf = rf.fit(X_train_enc, y_train)"
   ]
  },
  {
   "cell_type": "code",
   "execution_count": 103,
   "id": "dc45dcf0",
   "metadata": {},
   "outputs": [],
   "source": [
    "et = ExtraTreesClassifier(n_estimators=100)\n",
    "et = et.fit(X_train_enc, y_train)"
   ]
  },
  {
   "cell_type": "code",
   "execution_count": 108,
   "id": "da0742f1",
   "metadata": {},
   "outputs": [],
   "source": [
    "y_pred_test_rf = rf.predict(X_test_enc)\n",
    "y_pred_test_et = et.predict(X_test_enc)"
   ]
  },
  {
   "cell_type": "code",
   "execution_count": 111,
   "id": "55aebd6c",
   "metadata": {},
   "outputs": [
    {
     "data": {
      "text/plain": [
       "['./extra_trees.joblib']"
      ]
     },
     "execution_count": 111,
     "metadata": {},
     "output_type": "execute_result"
    }
   ],
   "source": [
    "joblib.dump(train_mode, \"./train_mode.joblib\", compress=True)\n",
    "joblib.dump(train_enc, \"./encoders.joblib\", compress=True)\n",
    "joblib.dump(rf, \"./random_forest.joblib\", compress=True)\n",
    "joblib.dump(et, \"./extra_trees.joblib\", compress=True)"
   ]
  }
 ],
 "metadata": {
  "kernelspec": {
   "display_name": "ml_service",
   "language": "python",
   "name": "ml_service"
  },
  "language_info": {
   "codemirror_mode": {
    "name": "ipython",
    "version": 3
   },
   "file_extension": ".py",
   "mimetype": "text/x-python",
   "name": "python",
   "nbconvert_exporter": "python",
   "pygments_lexer": "ipython3",
   "version": "3.10.4"
  }
 },
 "nbformat": 4,
 "nbformat_minor": 5
}
